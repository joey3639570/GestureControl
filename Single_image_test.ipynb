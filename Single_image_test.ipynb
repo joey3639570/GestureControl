{
 "cells": [
  {
   "cell_type": "code",
   "execution_count": 1,
   "id": "eedad1e2",
   "metadata": {},
   "outputs": [],
   "source": [
    "import mediapipe as mp\n",
    "import cv2\n",
    "import numpy as np"
   ]
  },
  {
   "cell_type": "code",
   "execution_count": 2,
   "id": "99e69d01",
   "metadata": {},
   "outputs": [],
   "source": [
    "mp_drawing = mp.solutions.drawing_utils\n",
    "mp_holistic = mp.solutions.holistic"
   ]
  },
  {
   "cell_type": "code",
   "execution_count": 3,
   "id": "078ad3c2",
   "metadata": {},
   "outputs": [],
   "source": [
    "image_path = \"test.png\"\n",
    "image_bgr = cv2.imread(image_path)"
   ]
  },
  {
   "cell_type": "code",
   "execution_count": 4,
   "id": "337048e6",
   "metadata": {},
   "outputs": [
    {
     "data": {
      "text/plain": [
       "DrawingSpec(color=(0, 0, 255), thickness=2, circle_radius=2)"
      ]
     },
     "execution_count": 4,
     "metadata": {},
     "output_type": "execute_result"
    }
   ],
   "source": [
    "mp_drawing.DrawingSpec(color=(0,0,255), thickness=2, circle_radius=2)"
   ]
  },
  {
   "cell_type": "code",
   "execution_count": 5,
   "id": "b53c8939",
   "metadata": {},
   "outputs": [
    {
     "name": "stderr",
     "output_type": "stream",
     "text": [
      "INFO: Created TensorFlow Lite XNNPACK delegate for CPU.\n"
     ]
    }
   ],
   "source": [
    "with mp_holistic.Holistic(min_detection_confidence=0.5, min_tracking_confidence=0.5, enable_segmentation=True) as holistic:\n",
    "    # Recolor Feed\n",
    "    image = cv2.cvtColor(image_bgr, cv2.COLOR_BGR2RGB)\n",
    "    # Make Detections\n",
    "    results = holistic.process(image)\n",
    "    # print(results.face_landmarks)\n",
    "\n",
    "    # face_landmarks, pose_landmarks, left_hand_landmarks, right_hand_landmarks\n",
    "\n",
    "    # Recolor image back to BGR for rendering\n",
    "    image = cv2.cvtColor(image, cv2.COLOR_RGB2BGR)\n",
    "\n",
    "    # 1. Draw face landmarksq\n",
    "    mp_drawing.draw_landmarks(image, results.face_landmarks, mp_holistic.FACEMESH_CONTOURS, \n",
    "                             mp_drawing.DrawingSpec(color=(80,110,10), thickness=1, circle_radius=1),\n",
    "                             mp_drawing.DrawingSpec(color=(80,256,121), thickness=1, circle_radius=1)\n",
    "                             )\n",
    "\n",
    "    # 2. Right hand\n",
    "    mp_drawing.draw_landmarks(image, results.right_hand_landmarks, mp_holistic.HAND_CONNECTIONS, \n",
    "                             mp_drawing.DrawingSpec(color=(80,22,10), thickness=2, circle_radius=4),\n",
    "                             mp_drawing.DrawingSpec(color=(80,44,121), thickness=2, circle_radius=2)\n",
    "                             )\n",
    "\n",
    "    # 3. Left Hand\n",
    "    mp_drawing.draw_landmarks(image, results.left_hand_landmarks, mp_holistic.HAND_CONNECTIONS, \n",
    "                             mp_drawing.DrawingSpec(color=(121,22,76), thickness=2, circle_radius=4),\n",
    "                             mp_drawing.DrawingSpec(color=(121,44,250), thickness=2, circle_radius=2)\n",
    "                             )\n",
    "\n",
    "    # 4. Pose Detections\n",
    "    mp_drawing.draw_landmarks(image, results.pose_landmarks, mp_holistic.POSE_CONNECTIONS, \n",
    "                             mp_drawing.DrawingSpec(color=(245,117,66), thickness=2, circle_radius=4),\n",
    "                             mp_drawing.DrawingSpec(color=(245,66,230), thickness=2, circle_radius=2)\n",
    "                             )\n",
    "\n",
    "    cv2.imshow('Raw Webcam Feed', image)\n",
    "    cv2.waitKey(0)\n",
    "    cv2.destroyAllWindows()"
   ]
  },
  {
   "cell_type": "code",
   "execution_count": 6,
   "id": "8e0fce25",
   "metadata": {},
   "outputs": [],
   "source": [
    "annotated_image = image.copy()\n",
    "condition = np.stack((results.segmentation_mask,) * 3, axis = -1) >0.1\n",
    "bg_image = image.copy()\n",
    "bg_image = cv2.blur(bg_image, (5, 5))\n",
    "annotated_image = np.where(condition, annotated_image, bg_image)\n",
    "cv2.imshow('Mask', annotated_image)\n",
    "cv2.waitKey(0)\n",
    "cv2.destroyAllWindows()"
   ]
  },
  {
   "cell_type": "code",
   "execution_count": 7,
   "id": "d50e7ebd",
   "metadata": {},
   "outputs": [],
   "source": [
    "with mp_holistic.Holistic(min_detection_confidence=0.5, min_tracking_confidence=0.5, enable_segmentation=True) as holistic:\n",
    "    # Recolor Feed\n",
    "    image = cv2.cvtColor(image_bgr, cv2.COLOR_BGR2RGB)\n",
    "    # Make Detections\n",
    "    results = holistic.process(image)\n",
    "    # print(results.face_landmarks)\n",
    "\n",
    "    # face_landmarks, pose_landmarks, left_hand_landmarks, right_hand_landmarks\n",
    "\n",
    "    # Recolor image back to BGR for rendering\n",
    "    image = cv2.cvtColor(image, cv2.COLOR_RGB2BGR)\n",
    "    annotated_image = image.copy()\n",
    "    condition = np.stack((results.segmentation_mask,) * 3, axis = -1) >0.1\n",
    "    bg_image = image.copy()\n",
    "    bg_image = cv2.blur(bg_image, (20, 20))\n",
    "    annotated_image = np.where(condition, annotated_image, bg_image)\n",
    "    vis = np.concatenate((image, annotated_image), axis = 1)\n",
    "    cv2.imshow('image', vis)\n",
    "    cv2.waitKey(0)\n",
    "    cv2.destroyAllWindows()"
   ]
  },
  {
   "cell_type": "code",
   "execution_count": null,
   "id": "50b119f9",
   "metadata": {},
   "outputs": [],
   "source": []
  },
  {
   "cell_type": "code",
   "execution_count": 8,
   "id": "1a25b381",
   "metadata": {},
   "outputs": [],
   "source": [
    "def finger_check(hand_landmarks):\n",
    "    thumbIsOpen = 0\n",
    "    firstFingerIsOpen = 0\n",
    "    secondFingerIsOpen = 0\n",
    "    thirdFingerIsOpen = 0\n",
    "    fourthFingerIsOpen = 0\n",
    "\n",
    "    if (hand_landmarks[3].x < hand_landmarks[2].x and hand_landmarks[4].x < hand_landmarks[2].x):\n",
    "        thumbIsOpen = 1\n",
    "    if (hand_landmarks[7].y < hand_landmarks[6].y and hand_landmarks[8].y < hand_landmarks[6].y):\n",
    "        firstFingerIsOpen = 1\n",
    "    if (hand_landmarks[11].y < hand_landmarks[10].y and hand_landmarks[12].y < hand_landmarks[10].y):\n",
    "        secondFingerIsOpen = 1\n",
    "    if (hand_landmarks[15].y < hand_landmarks[14].y and hand_landmarks[16].y < hand_landmarks[14].y):\n",
    "        thirdFingerIsOpen = 1\n",
    "    if (hand_landmarks[19].y < hand_landmarks[18].y and hand_landmarks[20].y < hand_landmarks[18].y):\n",
    "        fourthFingerIsOpen = 1\n",
    "    return [thumbIsOpen, firstFingerIsOpen, secondFingerIsOpen, thirdFingerIsOpen, fourthFingerIsOpen]"
   ]
  },
  {
   "cell_type": "code",
   "execution_count": 22,
   "id": "eebf24c5",
   "metadata": {},
   "outputs": [],
   "source": [
    "cap = cv2.VideoCapture(0)\n",
    "function_select = 0\n",
    "text = 'Mode not checked'\n",
    "# Initiate holistic model\n",
    "with mp_holistic.Holistic(min_detection_confidence=0.5, min_tracking_confidence=0.5, enable_segmentation=True) as holistic:\n",
    "    \n",
    "    while cap.isOpened():\n",
    "        ret, frame = cap.read()\n",
    "        \n",
    "        # Recolor Feed\n",
    "        image = cv2.cvtColor(frame, cv2.COLOR_BGR2RGB)\n",
    "        # Make Detections\n",
    "        results = holistic.process(image)\n",
    "        # print(results.face_landmarks)\n",
    "\n",
    "        # face_landmarks, pose_landmarks, left_hand_landmarks, right_hand_landmarks\n",
    "\n",
    "        # Recolor image back to BGR for rendering\n",
    "        image = cv2.cvtColor(image, cv2.COLOR_RGB2BGR)\n",
    "        annotated_image = image.copy()\n",
    "        \n",
    "        if (results.left_hand_landmarks):\n",
    "            finger_state = finger_check(results.left_hand_landmarks.landmark)\n",
    "\n",
    "            if finger_state[0] == 0 and finger_state[1] == 0 and finger_state[2] == 0 and finger_state[3] == 0 and finger_state[4] == 0:\n",
    "                text = 'fist'\n",
    "                function_select = 0\n",
    "                \n",
    "            if finger_state[0] == 1 and finger_state[1] == 1 and finger_state[2] == 1 and finger_state[3] == 1 and finger_state[4] == 1:\n",
    "                text = 'Opened'\n",
    "                function_select = 1\n",
    "\n",
    "            if finger_state[2] == 1 and finger_state[1] == 0 and finger_state[3] == 0:\n",
    "                text = 'middle finger'\n",
    "                function_select = 2\n",
    "        \n",
    "        if function_select == 1:\n",
    "            condition = np.stack((results.segmentation_mask,) * 3, axis = -1) >0.1\n",
    "            bg_image = image.copy()\n",
    "            bg_image = cv2.blur(bg_image, (10, 10))\n",
    "            annotated_image = np.where(condition, annotated_image, bg_image)\n",
    "        \n",
    "        elif function_select == 2:\n",
    "            condition = np.stack((results.segmentation_mask,) * 3, axis = -1) > 0.1\n",
    "            annotated_image = cv2.blur(annotated_image, (30, 30))\n",
    "            bg_image = image.copy()\n",
    "            annotated_image = np.where(condition, annotated_image, bg_image)\n",
    "        \n",
    "        else:\n",
    "            annotated_image = image.copy()\n",
    "        \n",
    "        vis = np.concatenate((image, annotated_image), axis = 1)\n",
    "        cv2.putText(vis, text, (10, 40), cv2.FONT_HERSHEY_SIMPLEX, 1, (0, 0, 255), 3, cv2.LINE_AA)\n",
    "        cv2.imshow('Raw Webcam Feed', vis)\n",
    "\n",
    "        if cv2.waitKey(10) & 0xFF == ord('q'):\n",
    "            break\n",
    "\n",
    "cap.release()\n",
    "cv2.destroyAllWindows()"
   ]
  },
  {
   "cell_type": "code",
   "execution_count": null,
   "id": "6f864802",
   "metadata": {},
   "outputs": [],
   "source": []
  },
  {
   "cell_type": "code",
   "execution_count": 10,
   "id": "4a59dcac",
   "metadata": {},
   "outputs": [
    {
     "ename": "AttributeError",
     "evalue": "'NoneType' object has no attribute 'landmark'",
     "output_type": "error",
     "traceback": [
      "\u001b[0;31m---------------------------------------------------------------------------\u001b[0m",
      "\u001b[0;31mAttributeError\u001b[0m                            Traceback (most recent call last)",
      "\u001b[0;32m/tmp/ipykernel_7156/3392814442.py\u001b[0m in \u001b[0;36m<module>\u001b[0;34m\u001b[0m\n\u001b[0;32m----> 1\u001b[0;31m \u001b[0mfinger_state\u001b[0m \u001b[0;34m=\u001b[0m \u001b[0mfinger_check\u001b[0m\u001b[0;34m(\u001b[0m\u001b[0mresults\u001b[0m\u001b[0;34m.\u001b[0m\u001b[0mleft_hand_landmarks\u001b[0m\u001b[0;34m.\u001b[0m\u001b[0mlandmark\u001b[0m\u001b[0;34m)\u001b[0m\u001b[0;34m\u001b[0m\u001b[0m\n\u001b[0m\u001b[1;32m      2\u001b[0m \u001b[0mprint\u001b[0m\u001b[0;34m(\u001b[0m\u001b[0mfinger_state\u001b[0m\u001b[0;34m)\u001b[0m\u001b[0;34m\u001b[0m\u001b[0m\n",
      "\u001b[0;31mAttributeError\u001b[0m: 'NoneType' object has no attribute 'landmark'"
     ]
    }
   ],
   "source": [
    "finger_state = finger_check(results.left_hand_landmarks.landmark)\n",
    "print(finger_state)"
   ]
  },
  {
   "cell_type": "code",
   "execution_count": null,
   "id": "202d99b7",
   "metadata": {},
   "outputs": [],
   "source": []
  }
 ],
 "metadata": {
  "kernelspec": {
   "display_name": "Python 3 (ipykernel)",
   "language": "python",
   "name": "python3"
  },
  "language_info": {
   "codemirror_mode": {
    "name": "ipython",
    "version": 3
   },
   "file_extension": ".py",
   "mimetype": "text/x-python",
   "name": "python",
   "nbconvert_exporter": "python",
   "pygments_lexer": "ipython3",
   "version": "3.7.0"
  }
 },
 "nbformat": 4,
 "nbformat_minor": 5
}
